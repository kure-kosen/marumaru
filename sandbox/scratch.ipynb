{
 "cells": [
  {
   "cell_type": "code",
   "execution_count": null,
   "metadata": {},
   "outputs": [],
   "source": [
    "import pandas as pd\n",
    "import numpy as np\n",
    "import matplotlib.pyplot as plt"
   ]
  },
  {
   "cell_type": "code",
   "execution_count": null,
   "metadata": {
    "scrolled": true
   },
   "outputs": [],
   "source": [
    "df = pd.read_csv('sample.csv')"
   ]
  },
  {
   "cell_type": "code",
   "execution_count": null,
   "metadata": {},
   "outputs": [],
   "source": [
    "theta = np.arange(0.0, 4*2*np.pi, 0.01)"
   ]
  },
  {
   "cell_type": "code",
   "execution_count": null,
   "metadata": {},
   "outputs": [],
   "source": [
    "r = 0.5*theta"
   ]
  },
  {
   "cell_type": "code",
   "execution_count": null,
   "metadata": {},
   "outputs": [],
   "source": [
    "r"
   ]
  },
  {
   "cell_type": "code",
   "execution_count": null,
   "metadata": {},
   "outputs": [],
   "source": [
    "plt.polar(theta, r)\n",
    "plt.show()"
   ]
  },
  {
   "cell_type": "code",
   "execution_count": null,
   "metadata": {},
   "outputs": [],
   "source": [
    "deg = df['Phi [deg]']\n",
    "value = df['data1']"
   ]
  },
  {
   "cell_type": "code",
   "execution_count": null,
   "metadata": {},
   "outputs": [],
   "source": []
  },
  {
   "cell_type": "code",
   "execution_count": null,
   "metadata": {
    "scrolled": true
   },
   "outputs": [],
   "source": [
    "plt.polar(deg, value)\n",
    "plt.show()"
   ]
  },
  {
   "cell_type": "code",
   "execution_count": null,
   "metadata": {},
   "outputs": [],
   "source": []
  },
  {
   "cell_type": "code",
   "execution_count": null,
   "metadata": {},
   "outputs": [],
   "source": [
    "# 配列生成\n",
    "x = np.random.randint(1,5,5)\n",
    "y = np.random.randint(1,5,5)\n",
    "\n",
    "# 直交座標系 → 極座標系\n",
    "radii = np.sqrt(x**2 + y**2)\n",
    "theta = np.arctan2(y,x)\n",
    "\n",
    "# 直交系グラフ\n",
    "ax1 = plt.subplot(1,2,1)\n",
    "ax1.scatter(x,y)\n",
    "ax1.axis([0,10,0,10])\n",
    "ax1.grid(True)\n",
    "\n",
    "# 極座標系グラフ\n",
    "ax2 = plt.subplot(1,2,2,polar=True)\n",
    "ax2.scatter(theta,radii)\n",
    "ax2.set_rmax(10)\n",
    "ax2.grid(True)\n",
    "\n",
    "plt.show()"
   ]
  },
  {
   "cell_type": "code",
   "execution_count": null,
   "metadata": {},
   "outputs": [],
   "source": [
    "x"
   ]
  },
  {
   "cell_type": "code",
   "execution_count": null,
   "metadata": {},
   "outputs": [],
   "source": [
    "ax = plt.subplot(111, projection='polar')"
   ]
  },
  {
   "cell_type": "code",
   "execution_count": null,
   "metadata": {},
   "outputs": [],
   "source": [
    "ax.axes.set_theta_zero_location('N')\n",
    "ax.set_theta_direction(-1)"
   ]
  },
  {
   "cell_type": "code",
   "execution_count": null,
   "metadata": {},
   "outputs": [],
   "source": [
    "theta = np.arange(0, 2*np.pi, 0.1)\n",
    "r = (1+0.6*np.cos(theta))**-1"
   ]
  },
  {
   "cell_type": "code",
   "execution_count": null,
   "metadata": {},
   "outputs": [],
   "source": [
    "theta"
   ]
  },
  {
   "cell_type": "code",
   "execution_count": null,
   "metadata": {
    "scrolled": false
   },
   "outputs": [],
   "source": [
    "ax.plot(theta, r)\n",
    "plt.show()"
   ]
  },
  {
   "cell_type": "code",
   "execution_count": null,
   "metadata": {},
   "outputs": [],
   "source": [
    "deg = df['Phi [deg]']\n",
    "value = df['data1']\n",
    "values = df.iloc[:, 1:]"
   ]
  },
  {
   "cell_type": "code",
   "execution_count": null,
   "metadata": {},
   "outputs": [],
   "source": [
    "lines = ['-', '--', '-.', ':', '.', ',']\n",
    "\n",
    "ax = plt.subplot(111, projection='polar')\n",
    "\n",
    "ax.axes.set_theta_zero_location('N')\n",
    "ax.set_theta_direction(-1)\n",
    "\n",
    "theta = deg*np.pi/180\n",
    "r = values\n",
    "\n",
    "for i in range(len(values.columns)):\n",
    "    ax.plot(theta, values.iloc[:, i], lines[i % len(lines)])\n",
    "    \n",
    "plt.show()"
   ]
  },
  {
   "cell_type": "code",
   "execution_count": null,
   "metadata": {
    "scrolled": true
   },
   "outputs": [],
   "source": [
    "6 % len(lines)"
   ]
  },
  {
   "cell_type": "code",
   "execution_count": null,
   "metadata": {},
   "outputs": [],
   "source": []
  },
  {
   "cell_type": "code",
   "execution_count": null,
   "metadata": {
    "scrolled": true
   },
   "outputs": [],
   "source": [
    "lines = ['-', '--', '-.', ':', '.', ',']\n",
    "\n",
    "ax = plt.subplot(111, projection='polar')\n",
    "\n",
    "ax.axes.set_theta_zero_location('N')\n",
    "ax.set_theta_direction(-1)\n",
    "ax.set_rlabel_position(0)\n",
    "\n",
    "theta = deg*np.pi/180\n",
    "r = values\n",
    "\n",
    "for i in range(len(values.columns)):\n",
    "    label = values.columns[i]\n",
    "    line = lines[i%len(lines)]\n",
    "    ax.plot(theta, values.iloc[:, i], line, label=label)\n",
    "\n",
    "plt.legend(bbox_to_anchor=(1.05, 1))    \n",
    "plt.show()"
   ]
  },
  {
   "cell_type": "code",
   "execution_count": null,
   "metadata": {},
   "outputs": [],
   "source": [
    "df.columns[1]"
   ]
  },
  {
   "cell_type": "code",
   "execution_count": null,
   "metadata": {},
   "outputs": [],
   "source": []
  },
  {
   "cell_type": "code",
   "execution_count": 9,
   "metadata": {},
   "outputs": [],
   "source": [
    "import pandas as pd\n",
    "import numpy as np\n",
    "import matplotlib.pyplot as plt\n",
    "\n",
    "df = pd.read_csv('sample.csv')\n",
    "\n",
    "deg = df['Phi [deg]']\n",
    "values = df.iloc[:, 1:]\n",
    "\n",
    "lines = ['-', '--', '-.', ':', '.', ',']\n",
    "\n",
    "ax = plt.subplot(111, projection='polar')\n",
    "\n",
    "ax.axes.set_theta_zero_location('N')\n",
    "ax.set_theta_direction(-1)\n",
    "ax.set_rlabel_position(0)\n",
    "\n",
    "theta = deg*np.pi/180\n",
    "r = values\n",
    "\n",
    "for i in range(len(values.columns)):\n",
    "    label = values.columns[i]\n",
    "    line = lines[i%len(lines)]\n",
    "    ax.plot(theta, values.iloc[:, i], line, label=label)\n",
    "\n",
    "plt.legend(bbox_to_anchor=(1.05, 1))\n",
    "plt.savefig('sample.png', dpi=500)\n",
    "plt.show()\n",
    "\n"
   ]
  }
 ],
 "metadata": {
  "kernelspec": {
   "display_name": "Python 3",
   "language": "python",
   "name": "python3"
  },
  "language_info": {
   "codemirror_mode": {
    "name": "ipython",
    "version": 3
   },
   "file_extension": ".py",
   "mimetype": "text/x-python",
   "name": "python",
   "nbconvert_exporter": "python",
   "pygments_lexer": "ipython3",
   "version": "3.6.2"
  }
 },
 "nbformat": 4,
 "nbformat_minor": 2
}
